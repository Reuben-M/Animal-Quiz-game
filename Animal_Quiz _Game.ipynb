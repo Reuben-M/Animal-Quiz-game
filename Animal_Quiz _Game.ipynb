{
 "cells": [
  {
   "cell_type": "code",
   "execution_count": 7,
   "id": "1f4270f5",
   "metadata": {},
   "outputs": [
    {
     "name": "stdout",
     "output_type": "stream",
     "text": [
      "ANIMAL QUIZ GAME!!!! \n",
      "There are 3 questions.You have 3 chances to answer them correctly!!\n",
      "Which bear lives at the North Pole? Polar Bear\n",
      "Correct answer!!!\n",
      "Which is the fastest land animal? Cheetah\n",
      "Correct answer!!!\n",
      "Which is the tallest animal? Ostrich\n",
      "Wrong answer..Try again :whale\n",
      "Wrong answer..Try again :elephant\n",
      "\n",
      "BAD LUCK!!:( Your 3 chances are over.Run the game again!!\n",
      "Nice try though!!..Your score is: 2\n"
     ]
    }
   ],
   "source": [
    "def checker(b):\n",
    "    global score,chance\n",
    "    if b==A[i]:\n",
    "        print('Correct answer!!!')\n",
    "        score+=1\n",
    "    else:\n",
    "        chance-=1\n",
    "        c=input('Wrong answer..Try again :').lower()\n",
    "        if c==A[i]:\n",
    "            print('Correct answer!!!')\n",
    "            score+=1\n",
    "        else:\n",
    "            chance-=1\n",
    "            d=input('Wrong answer..Try again :').lower()\n",
    "            if d==A[i]:\n",
    "                print('Correct answer!!!')\n",
    "                score+=1\n",
    "                \n",
    "            else:\n",
    "                chance-=1\n",
    "                print('\\nBAD LUCK!!:( Your 3 chances are over.Run the game again!!')\n",
    "    \n",
    "            \n",
    "\n",
    "score=0\n",
    "chance=3\n",
    "print('ANIMAL QUIZ GAME!!!! \\nThere are 3 questions.You have 3 chances to answer them correctly!!')\n",
    "Q=['Which bear lives at the North Pole? ',\n",
    "   'Which is the fastest land animal? ',\n",
    "   'Which is the tallest animal? ']\n",
    "A=['polar bear','cheetah','giraffe']\n",
    "\n",
    "for i in range(3):\n",
    "    ans=input(Q[i]).lower()\n",
    "    checker(ans)\n",
    "    if(chance==0):\n",
    "        break\n",
    "        \n",
    "if score==3:\n",
    "    print(\"GREAT JOB!!! You got them all right.Your score is:\",score)\n",
    "\n",
    "elif score>=1:\n",
    "    print(\"Nice try though!!..Your score is:\",score)\n",
    "    "
   ]
  },
  {
   "cell_type": "code",
   "execution_count": null,
   "id": "c36d4052",
   "metadata": {},
   "outputs": [],
   "source": []
  }
 ],
 "metadata": {
  "kernelspec": {
   "display_name": "Python 3",
   "language": "python",
   "name": "python3"
  },
  "language_info": {
   "codemirror_mode": {
    "name": "ipython",
    "version": 3
   },
   "file_extension": ".py",
   "mimetype": "text/x-python",
   "name": "python",
   "nbconvert_exporter": "python",
   "pygments_lexer": "ipython3",
   "version": "3.8.8"
  }
 },
 "nbformat": 4,
 "nbformat_minor": 5
}
